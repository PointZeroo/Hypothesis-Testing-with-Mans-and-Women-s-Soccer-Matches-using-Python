{
 "cells": [
  {
   "cell_type": "markdown",
   "id": "606cf7bc",
   "metadata": {},
   "source": [
    "# Hypothesis Testing with Men's and Women's Soccer Matches using PYTHON"
   ]
  },
  {
   "cell_type": "markdown",
   "id": "23f18f2b",
   "metadata": {},
   "source": [
    "#### Import libraries"
   ]
  },
  {
   "cell_type": "code",
   "execution_count": 109,
   "id": "ae19c239",
   "metadata": {},
   "outputs": [],
   "source": [
    "import pandas as pd\n",
    "import pingouin\n",
    "import numpy as np\n",
    "from scipy import stats\n",
    "import matplotlib.pyplot as plt\n",
    "import seaborn as sns"
   ]
  },
  {
   "cell_type": "markdown",
   "id": "e92cb18b",
   "metadata": {},
   "source": [
    "#### Read the files"
   ]
  },
  {
   "cell_type": "code",
   "execution_count": 110,
   "id": "397ace74",
   "metadata": {},
   "outputs": [],
   "source": [
    "men_df = pd.read_csv(r\"C:\\Users\\Jamaica\\Desktop\\Kian's File\\Personal file\\Projects\\Hypothesis Testing with Men's and Women's Soccer Matches\\men_results.csv\")\n",
    "women_df = pd.read_csv(r\"C:\\Users\\Jamaica\\Desktop\\Kian's File\\Personal file\\Projects\\Hypothesis Testing with Men's and Women's Soccer Matches\\women_results.csv\")"
   ]
  },
  {
   "cell_type": "markdown",
   "id": "ccee070c",
   "metadata": {},
   "source": [
    "#### Inspect structure and check data range"
   ]
  },
  {
   "cell_type": "code",
   "execution_count": null,
   "id": "0a0a5559",
   "metadata": {},
   "outputs": [],
   "source": [
    "men_df.columns"
   ]
  },
  {
   "cell_type": "code",
   "execution_count": null,
   "id": "11e95e22",
   "metadata": {},
   "outputs": [],
   "source": [
    "print(\"Men's data:\")\n",
    "print(men_df.info())\n",
    "print(\"\\nWomen's data:\")\n",
    "print(women_df.info())\n",
    "\n",
    "print(\"\\nMen's date range:\", men_df['date'].min(), \"to\", men_df['date'].max())\n",
    "print(\"Women's date range:\", women_df['date'].min(), \"to\", women_df['date'].max())      "
   ]
  },
  {
   "cell_type": "markdown",
   "id": "08b43adf",
   "metadata": {},
   "source": [
    "#### Convert Dates to datetime format"
   ]
  },
  {
   "cell_type": "code",
   "execution_count": 113,
   "id": "0029bc8a",
   "metadata": {},
   "outputs": [],
   "source": [
    "men_df['date'] = pd.to_datetime(men_df['date'])\n",
    "women_df['date'] = pd.to_datetime(women_df['date'])"
   ]
  },
  {
   "cell_type": "markdown",
   "id": "375c8542",
   "metadata": {},
   "source": [
    "#### Filter for FIFA World Cup matches since 2002-01-01"
   ]
  },
  {
   "cell_type": "code",
   "execution_count": 114,
   "id": "6209c376",
   "metadata": {},
   "outputs": [],
   "source": [
    "men_wc = men_df[(men_df['tournament'] == 'FIFA World Cup') & (men_df['date'] >= '2002-01-01')]\n",
    "women_wc = women_df[(women_df['tournament'] == 'FIFA World Cup') & (women_df['date'] >= '2002-01-01')]"
   ]
  },
  {
   "cell_type": "markdown",
   "id": "b8545565",
   "metadata": {},
   "source": [
    "#### Analyzing Number of Matches"
   ]
  },
  {
   "cell_type": "code",
   "execution_count": null,
   "id": "8af694c9",
   "metadata": {},
   "outputs": [],
   "source": [
    "# Match counts\n",
    "match_counts = {\n",
    "    \"Men's World Cup\": len(men_wc),\n",
    "    \"Women's World Cup\": len(women_wc)\n",
    "}\n",
    "\n",
    "# Convert to DataFrame for seaborn\n",
    "counts_df = pd.DataFrame(list(match_counts.items()), columns=[\"Tournament\", \"Matches\"])\n",
    "\n",
    "\n",
    "plt.figure(figsize=(6, 5))\n",
    "ax = sns.barplot(x=\"Tournament\", y=\"Matches\", data=counts_df, palette=[\"blue\", \"red\"], hue=\"Tournament\", legend=False)\n",
    "# Add counts on top of bars\n",
    "for container in ax.containers:\n",
    "    ax.bar_label(container, fmt='%d', label_type='edge', fontsize=12, padding=3)\n",
    "\n",
    "plt.title(\"Number of Matches Analyzed (Since 2002)\", fontsize=14)\n",
    "plt.ylabel(\"Number of Matches\")\n",
    "plt.xlabel(\"\")\n",
    "plt.tight_layout()\n",
    "plt.show()\n"
   ]
  },
  {
   "cell_type": "markdown",
   "id": "db95b86d",
   "metadata": {},
   "source": [
    "#### Calculate total goals per match"
   ]
  },
  {
   "cell_type": "code",
   "execution_count": null,
   "id": "c72454e9",
   "metadata": {},
   "outputs": [],
   "source": [
    "men_wc['total_goals'] = men_wc['home_score'] + men_wc['away_score']\n",
    "women_wc['total_goals'] = women_wc['home_score'] + women_wc['away_score']\n",
    "print(men_wc)\n",
    "print(women_wc)"
   ]
  },
  {
   "cell_type": "markdown",
   "id": "7b2fff99",
   "metadata": {},
   "source": [
    "#### Print basic statistics"
   ]
  },
  {
   "cell_type": "code",
   "execution_count": null,
   "id": "4e3ffb55",
   "metadata": {},
   "outputs": [],
   "source": [
    "print(\"\\nMen's World Cup matches (since 2002):\")\n",
    "print(f\"Number of matches: {len(men_wc)}\")\n",
    "print(f\"Goal stats: Mean={men_wc['total_goals'].mean():.2f}, Median={men_wc['total_goals'].median()}, Std={men_wc['total_goals'].std():.2f}\")\n",
    "\n",
    "print(\"\\nWomen's World Cup matches (since 2002):\")\n",
    "print(f\"Number of matches: {len(women_wc)}\")\n",
    "print(f\"Goal stats: Mean={women_wc['total_goals'].mean():.2f}, Median={women_wc['total_goals'].median()}, Std={women_wc['total_goals'].std():.2f}\")"
   ]
  },
  {
   "cell_type": "markdown",
   "id": "5fa769f8",
   "metadata": {},
   "source": [
    "Total goals: Men vs Women"
   ]
  },
  {
   "cell_type": "code",
   "execution_count": null,
   "id": "1ca82bf3",
   "metadata": {},
   "outputs": [],
   "source": [
    "# Make copies to avoid SettingWithCopyWarning\n",
    "men_wc = men_wc.copy()\n",
    "women_wc = women_wc.copy()\n",
    "\n",
    "# Add gender column\n",
    "men_wc[\"gender\"] = \"Men\"\n",
    "women_wc[\"gender\"] = \"Women\"\n",
    "\n",
    "# Combine into single dataframe\n",
    "combined = pd.concat([men_wc[['total_goals','gender']], \n",
    "                      women_wc[['total_goals','gender']]])\n",
    "\n",
    "# ---- Seaborn Visualizations ----\n",
    "\n",
    "plt.figure(figsize=(12,6))\n",
    "\n",
    "# 1. Boxplot comparison\n",
    "plt.subplot(1,2,1)\n",
    "sns.boxplot(\n",
    "    data=combined,\n",
    "    x=\"gender\", \n",
    "    y=\"total_goals\", \n",
    "    hue=\"gender\",\n",
    "    dodge=False, \n",
    "    palette={\"Men\":\"blue\",\"Women\":\"red\"},\n",
    "    legend=False\n",
    ")\n",
    "plt.title(\"Boxplot of Total Goals per Match\")\n",
    "\n",
    "plt.subplot(1,2,2)\n",
    "ax = sns.barplot(\n",
    "    data=combined,\n",
    "    x=\"gender\", \n",
    "    y=\"total_goals\", \n",
    "    estimator=np.mean, \n",
    "    errorbar=\"sd\",       # replaces ci=\"sd\"\n",
    "    hue=\"gender\",        \n",
    "    palette={\"Men\": \"blue\", \"Women\": \"red\"},\n",
    "    dodge=False          \n",
    ")\n",
    "\n",
    "# Add values on top of bars\n",
    "for p in ax.patches:\n",
    "    value = p.get_height()\n",
    "    ax.text(\n",
    "        p.get_x() + p.get_width()/2.,   # x position (center of bar)\n",
    "        value + 0.05,                   # y position (slightly above bar)\n",
    "        f\"{value:.2f}\",                 # formatted value\n",
    "        ha=\"center\", va=\"bottom\", fontsize=10, color=\"black\"\n",
    "    )\n",
    "\n",
    "plt.title(\"Average Total Goals per Match (Men vs Women)\")\n",
    "plt.ylabel(\"Average Goals\")\n",
    "plt.xlabel(\"Gender\")\n",
    "plt.tight_layout()\n",
    "plt.show()\n"
   ]
  },
  {
   "cell_type": "markdown",
   "id": "950643a4",
   "metadata": {},
   "source": [
    "#### Check distributions visually"
   ]
  },
  {
   "cell_type": "code",
   "execution_count": 119,
   "id": "f999d966",
   "metadata": {},
   "outputs": [
    {
     "data": {
      "image/png": "[encoded data removed]",
      "text/plain": [
       "<Figure size 1200x600 with 2 Axes>"
      ]
     },
     "metadata": {},
     "output_type": "display_data"
    }
   ],
   "source": [
    "plt.figure(figsize=(12, 6))\n",
    "plt.subplot(1, 2, 1)\n",
    "plt.hist(men_wc['total_goals'], bins=15, color='blue', alpha=0.7)\n",
    "plt.title(\"Men's Goals Distribution\")\n",
    "plt.xlabel('Total Goals per Match')\n",
    "plt.ylabel('Frequency')\n",
    "\n",
    "plt.subplot(1, 2, 2)\n",
    "plt.hist(women_wc['total_goals'], bins=15, color='red', alpha=0.7)\n",
    "plt.title(\"Women's Goals Distribution\")\n",
    "plt.xlabel('Total Goals per Match')\n",
    "plt.tight_layout()\n",
    "plt.show()"
   ]
  },
  {
   "cell_type": "markdown",
   "id": "97b56b07",
   "metadata": {},
   "source": [
    "#### Check normality statistically"
   ]
  },
  {
   "cell_type": "code",
   "execution_count": null,
   "id": "f643a44b",
   "metadata": {},
   "outputs": [],
   "source": [
    "men_normal = stats.shapiro(men_wc['total_goals']).pvalue > 0.05\n",
    "women_normal = stats.shapiro(women_wc['total_goals']).pvalue > 0.05\n",
    "\n",
    "print(f\"\\nNormality test results:\")\n",
    "print(f\"Men's goals normal? {'Yes' if men_normal else 'No'}\")\n",
    "print(f\"Women's goals normal? {'Yes' if women_normal else 'No'}\")"
   ]
  },
  {
   "cell_type": "markdown",
   "id": "0dc004aa",
   "metadata": {},
   "source": [
    "#### Based on this, we'll choose the appropriate test"
   ]
  },
  {
   "cell_type": "code",
   "execution_count": null,
   "id": "d52764bb",
   "metadata": {},
   "outputs": [],
   "source": [
    "if men_normal and women_normal:\n",
    "    print(\"\\nBoth distributions normal - using t-test\")\n",
    "else:\n",
    "    print(\"\\nNon-normal distributions - using Mann-Whitney U test\")"
   ]
  },
  {
   "cell_type": "markdown",
   "id": "ef45369f",
   "metadata": {},
   "source": [
    "#### Since goals are discrete and distributions are likely skewed, we'll use Mann-Whitney U"
   ]
  },
  {
   "cell_type": "code",
   "execution_count": null,
   "id": "540356ed",
   "metadata": {},
   "outputs": [],
   "source": [
    "result = pingouin.mwu(\n",
    "    women_wc['total_goals'], \n",
    "    men_wc['total_goals'],\n",
    "    alternative='greater'  # We suspect women's matches have MORE goals\n",
    ")\n",
    "\n",
    "print(f\"\\nMann-Whitney U Test Results:\")\n",
    "print(f\"U statistic: {result['U-val'].values[0]}\")\n",
    "print(f\"P-value: {result['p-val'].values[0]:.6f}\")"
   ]
  },
  {
   "cell_type": "markdown",
   "id": "3539f921",
   "metadata": {},
   "source": [
    "#### Conclusion"
   ]
  },
  {
   "cell_type": "code",
   "execution_count": null,
   "id": "5887fe8b",
   "metadata": {},
   "outputs": [],
   "source": [
    "alpha = 0.10  # 10% significance level\n",
    "\n",
    "if p_val <= alpha:\n",
    "    result = \"reject\"\n",
    "    print(\"\\nConclusion: Reject H0 - Women's matches have significantly more goals\")\n",
    "else:\n",
    "    result = \"fail to reject\"\n",
    "    print(\"\\nConclusion: Fail to reject H0 - No significant difference in goals\")\n",
    "\n",
    "# Create result dictionary\n",
    "result_dict = {\"p_val\": p_val, \"result\": result}\n",
    "#print(result_dict)"
   ]
  },
  {
   "cell_type": "code",
   "execution_count": null,
   "id": "acfbee38",
   "metadata": {},
   "outputs": [],
   "source": [
    "plt.figure(figsize=(12, 6))\n",
    "\n",
    "# --- First chart: p-value vs alpha ---\n",
    "plt.subplot(1, 2, 1)\n",
    "ax = sns.barplot(\n",
    "    x=[\"p-value\", \"alpha\"], \n",
    "    y=[p_val, alpha], \n",
    "    palette=[\"red\", \"blue\"], \n",
    "    hue=[\"p-value\", \"alpha\"], \n",
    "    legend=False\n",
    ")\n",
    "\n",
    "# Annotate values on top of bars\n",
    "for p in ax.patches:\n",
    "    ax.annotate(f\"{p.get_height():.3f}\",   # format to 3 decimals\n",
    "                (p.get_x() + p.get_width() / 2., p.get_height()),\n",
    "                ha='center', va='bottom', fontsize=10, fontweight=\"bold\")\n",
    "\n",
    "# Add horizontal alpha line\n",
    "plt.axhline(y=alpha, color=\"blue\", linestyle=\"--\", label=f\"alpha = {alpha}\")\n",
    "plt.title(\"Hypothesis Test: p-value vs α\")\n",
    "plt.ylabel(\"Value\")\n",
    "plt.legend()\n",
    "\n",
    "# --- Second chart: Goals distribution ---\n",
    "plt.subplot(1, 2, 2)\n",
    "sns.histplot(men_wc['total_goals'], color=\"blue\", label=\"Men\", kde=True)\n",
    "sns.histplot(women_wc['total_goals'], color=\"red\", label=\"Women\", kde=True)\n",
    "plt.title(\"Goals Distribution with Hypothesis Test Result\")\n",
    "plt.xlabel(\"Total Goals per Match\")\n",
    "plt.legend()\n",
    "\n",
    "# Annotate hypothesis test result\n",
    "plt.text(7, 15, f\"Hypothesis Test: {result}\", fontsize=12, color=\"green\")\n",
    "\n",
    "plt.tight_layout()\n",
    "plt.show()\n"
   ]
  },
  {
   "cell_type": "code",
   "execution_count": null,
   "id": "a0b3ffd8",
   "metadata": {},
   "outputs": [],
   "source": [
    "plt.figure(figsize=(6,4))\n",
    "sns.histplot(men_wc['total_goals'], color=\"blue\", label=\"Men\", kde=True)\n",
    "sns.histplot(women_wc['total_goals'], color=\"red\", label=\"Women\", kde=True)\n",
    "plt.title(\"Goals Distribution with Hypothesis Test Result\")\n",
    "plt.xlabel(\"Total Goals per Match\")\n",
    "plt.legend()\n",
    "\n",
    "# Annotate result\n",
    "plt.text(7, 15, f\"Hypothesis Test: {result}\", fontsize=12, color=\"green\")\n",
    "plt.show()"
   ]
  }
 ],
 "metadata": {
  "kernelspec": {
   "display_name": "Python 3",
   "language": "python",
   "name": "python3"
  },
  "language_info": {
   "codemirror_mode": {
    "name": "ipython",
    "version": 3
   },
   "file_extension": ".py",
   "mimetype": "text/x-python",
   "name": "python",
   "nbconvert_exporter": "python",
   "pygments_lexer": "ipython3",
   "version": "3.13.7"
  }
 },
 "nbformat": 4,
 "nbformat_minor": 5
}
